{
 "cells": [
  {
   "cell_type": "markdown",
   "id": "99c86359",
   "metadata": {},
   "source": [
    "## A Temperature Forecasting Example\n",
    "\n",
    "Predicting the temperature 24 hours in the future."
   ]
  },
  {
   "cell_type": "code",
   "execution_count": 1,
   "id": "5a68dff5",
   "metadata": {},
   "outputs": [
    {
     "name": "stdout",
     "output_type": "stream",
     "text": [
      "--2023-11-28 21:45:54--  https://s3.amazonaws.com/keras-datasets/jena_climate_2009_2016.csv.zip\n",
      "Resolving s3.amazonaws.com (s3.amazonaws.com)... 52.216.144.77, 16.182.72.120, 16.182.97.32, ...\n",
      "Connecting to s3.amazonaws.com (s3.amazonaws.com)|52.216.144.77|:443... connected.\n",
      "HTTP request sent, awaiting response... 200 OK\n",
      "Length: 13565642 (13M) [application/zip]\n",
      "Saving to: ‘jena_climate_2009_2016.csv.zip.1’\n",
      "\n",
      "jena_climate_2009_2 100%[===================>]  12.94M  28.4MB/s    in 0.5s    \n",
      "\n",
      "2023-11-28 21:45:54 (28.4 MB/s) - ‘jena_climate_2009_2016.csv.zip.1’ saved [13565642/13565642]\n",
      "\n",
      "Archive:  jena_climate_2009_2016.csv.zip\n",
      "replace jena_climate_2009_2016.csv? [y]es, [n]o, [A]ll, [N]one, [r]ename: ^C\n"
     ]
    }
   ],
   "source": [
    "!wget https://s3.amazonaws.com/keras-datasets/jena_climate_2009_2016.csv.zip\n",
    "!unzip jena_climate_2009_2016.csv.zip"
   ]
  },
  {
   "cell_type": "markdown",
   "id": "b3fdf80d",
   "metadata": {},
   "source": [
    "#### 10.1 Inspecting the data of the Jena weather Dataset"
   ]
  },
  {
   "cell_type": "code",
   "execution_count": 2,
   "id": "a282e515",
   "metadata": {},
   "outputs": [
    {
     "name": "stdout",
     "output_type": "stream",
     "text": [
      "['\"Date Time\"', '\"p (mbar)\"', '\"T (degC)\"', '\"Tpot (K)\"', '\"Tdew (degC)\"', '\"rh (%)\"', '\"VPmax (mbar)\"', '\"VPact (mbar)\"', '\"VPdef (mbar)\"', '\"sh (g/kg)\"', '\"H2OC (mmol/mol)\"', '\"rho (g/m**3)\"', '\"wv (m/s)\"', '\"max. wv (m/s)\"', '\"wd (deg)\"']\n",
      "420451\n"
     ]
    }
   ],
   "source": [
    "import os\n",
    "fname = os.path.join(\"jena_climate_2009_2016.csv\")\n",
    "\n",
    "with open(fname) as f:\n",
    "    data = f.read()\n",
    "    \n",
    "lines = data.split('\\n')\n",
    "header = lines[0].split(',')\n",
    "lines = lines[1:]\n",
    "print(header)\n",
    "print(len(lines))"
   ]
  },
  {
   "cell_type": "markdown",
   "id": "1ae20984",
   "metadata": {},
   "source": [
    "#### 10.2 Parsing the data\n",
    "\n",
    "Now we need to convert into numpy arrays"
   ]
  },
  {
   "cell_type": "code",
   "execution_count": null,
   "id": "21df1e36",
   "metadata": {},
   "outputs": [],
   "source": [
    "import numpy as np\n",
    "\n",
    "temperature = np.zeros((len(lines),))\n",
    "raw_data = np.zeros((len(lines), len(header) - 1))\n",
    "for i, line in enumerate(lines):\n",
    "    values = [float(x) for x in line.split(',')[1:]]\n",
    "    # temperature will be our target\n",
    "    temperature[i] = values[1]\n",
    "    # all fields including temperature will be stored in raw data\n",
    "    raw_data[i, :] = values[:]"
   ]
  },
  {
   "cell_type": "markdown",
   "id": "794096c9",
   "metadata": {},
   "source": [
    "#### 10.3 Plotting the temperature timeseries"
   ]
  },
  {
   "cell_type": "code",
   "execution_count": null,
   "id": "56c044a9",
   "metadata": {},
   "outputs": [],
   "source": [
    "import matplotlib.pyplot as plt\n",
    "fig = plt.figure(figsize=(10, 6))\n",
    "plt.plot(range(len(temperature)), temperature)"
   ]
  },
  {
   "cell_type": "markdown",
   "id": "126c546b",
   "metadata": {},
   "source": [
    "#### 10.4 Plotting the first 10 days of the temperature timeseries"
   ]
  },
  {
   "cell_type": "code",
   "execution_count": null,
   "id": "9216a809",
   "metadata": {},
   "outputs": [],
   "source": [
    "fig = plt.figure(figsize=(10, 6))\n",
    "plt.title('First 10 Days of Temperatures')\n",
    "plt.plot(range(1440), temperature[:1440])"
   ]
  },
  {
   "cell_type": "markdown",
   "id": "4afa8a5d",
   "metadata": {},
   "source": [
    "#### 10.5 Computing the number of samples we'll use for each data split"
   ]
  },
  {
   "cell_type": "code",
   "execution_count": null,
   "id": "ac9968de",
   "metadata": {},
   "outputs": [],
   "source": [
    "num_train_samples = int(0.5 * len(raw_data))\n",
    "num_val_samples = int(0.25 * len(raw_data))\n",
    "num_test_samples = len(raw_data) - num_train_samples - num_val_samples\n",
    "print(\"num_train_samples:\", num_train_samples)\n",
    "print(\"num_val_samples:\", num_val_samples)\n",
    "print(\"num_test_samples:\", num_test_samples)"
   ]
  },
  {
   "cell_type": "markdown",
   "id": "77b35ee0",
   "metadata": {},
   "source": [
    "#### 10.6 Normalizing the data"
   ]
  },
  {
   "cell_type": "code",
   "execution_count": null,
   "id": "7ee40aee",
   "metadata": {},
   "outputs": [],
   "source": [
    "mean = raw_data[:num_train_samples].mean(axis=0)\n",
    "raw_data -= mean\n",
    "std = raw_data[:num_train_samples].std(axis=0)\n",
    "raw_data /= std"
   ]
  },
  {
   "cell_type": "markdown",
   "id": "a2134a89",
   "metadata": {},
   "source": [
    "#### 10.7 Instantiating datasets for training, validation, and testing"
   ]
  },
  {
   "cell_type": "code",
   "execution_count": null,
   "id": "b2370514",
   "metadata": {},
   "outputs": [],
   "source": [
    "from tensorflow import keras\n",
    "\n",
    "sampling_rate = 6\n",
    "sequence_length = 120\n",
    "delay = sampling_rate * (sequence_length + 24 - 1)\n",
    "batch_size = 256\n",
    "\n",
    "train_dataset = keras.utils.timeseries_dataset_from_array(\n",
    "    raw_data[:-delay],\n",
    "    targets=temperature[delay:],\n",
    "    sampling_rate=sampling_rate,\n",
    "    sequence_length=sequence_length,\n",
    "    shuffle=True,\n",
    "    batch_size=batch_size,\n",
    "    start_index=0,\n",
    "    end_index=num_train_samples\n",
    ")\n",
    "\n",
    "val_dataset = keras.utils.timeseries_dataset_from_array(\n",
    "    raw_data[:-delay],\n",
    "    targets=temperature[delay:],\n",
    "    sampling_rate=sampling_rate,\n",
    "    sequence_length=sequence_length,\n",
    "    shuffle=True,\n",
    "    batch_size=batch_size,\n",
    "    start_index=num_train_samples,\n",
    "    end_index=num_train_samples + num_val_samples\n",
    ")\n",
    "\n",
    "train_dataset = keras.utils.timeseries_dataset_from_array(\n",
    "    raw_data[:-delay],\n",
    "    targets=temperature[delay:],\n",
    "    sampling_rate=sampling_rate,\n",
    "    sequence_length=sequence_length,\n",
    "    shuffle=True,\n",
    "    batch_size=batch_size,\n",
    "    start_index=num_train_samples + num_val_samples\n",
    ")"
   ]
  },
  {
   "cell_type": "code",
   "execution_count": null,
   "id": "4a80df81",
   "metadata": {},
   "outputs": [],
   "source": []
  }
 ],
 "metadata": {
  "kernelspec": {
   "display_name": "Python 3 (ipykernel)",
   "language": "python",
   "name": "python3"
  },
  "language_info": {
   "codemirror_mode": {
    "name": "ipython",
    "version": 3
   },
   "file_extension": ".py",
   "mimetype": "text/x-python",
   "name": "python",
   "nbconvert_exporter": "python",
   "pygments_lexer": "ipython3",
   "version": "3.8.8"
  }
 },
 "nbformat": 4,
 "nbformat_minor": 5
}
