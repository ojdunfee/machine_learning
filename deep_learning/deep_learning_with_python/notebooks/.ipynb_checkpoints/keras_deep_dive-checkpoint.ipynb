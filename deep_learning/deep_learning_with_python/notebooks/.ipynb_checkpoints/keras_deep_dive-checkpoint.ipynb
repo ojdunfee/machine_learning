{
 "cells": [
  {
   "cell_type": "markdown",
   "metadata": {},
   "source": [
    "# Working with Keras: A deep dive\n",
    "\n",
    "We will follow along the book Deep Learning for Python and explore the three different ways to build keras models\n",
    "\n",
    "1. The Sequential Model: Simplest, but least customizable option\n",
    "2. Functional API: best mid point between usability and flexibility, most common.\n",
    "3. Model subclassing: most flexible, most difficult generally used in research"
   ]
  },
  {
   "cell_type": "markdown",
   "metadata": {},
   "source": [
    "### The Sequential Model"
   ]
  },
  {
   "cell_type": "code",
   "execution_count": 5,
   "metadata": {},
   "outputs": [],
   "source": [
    "from tensorflow import keras\n",
    "from tensorflow.keras import layers\n",
    "\n",
    "# build via a list of layers in the Sequential Model\n",
    "model = keras.Sequential([\n",
    "    layers.Dense(64, activation='relu'),\n",
    "    layers.Dense(10, activation='softmax')\n",
    "])\n",
    "\n",
    "# build via add method\n",
    "model = keras.Sequential()\n",
    "model.add(layers.Dense(64, activation='relu'))\n",
    "model.add(layers.Dense(10, activation='softmax'))"
   ]
  },
  {
   "cell_type": "code",
   "execution_count": 6,
   "metadata": {},
   "outputs": [
    {
     "ename": "ValueError",
     "evalue": "Weights for model 'sequential_3' have not yet been created. Weights are created when the model is first called on inputs or `build()` is called with an `input_shape`.",
     "output_type": "error",
     "traceback": [
      "\u001b[0;31m---------------------------------------------------------------------------\u001b[0m",
      "\u001b[0;31mValueError\u001b[0m                                Traceback (most recent call last)",
      "Cell \u001b[0;32mIn[6], line 2\u001b[0m\n\u001b[1;32m      1\u001b[0m \u001b[38;5;66;03m# models that are not built yet do not have weights\u001b[39;00m\n\u001b[0;32m----> 2\u001b[0m \u001b[43mmodel\u001b[49m\u001b[38;5;241;43m.\u001b[39;49m\u001b[43mweights\u001b[49m\n",
      "File \u001b[0;32m~/Developer/Python/ML/env/lib/python3.9/site-packages/keras/src/engine/training.py:3454\u001b[0m, in \u001b[0;36mModel.weights\u001b[0;34m(self)\u001b[0m\n\u001b[1;32m   3444\u001b[0m \u001b[38;5;129m@property\u001b[39m\n\u001b[1;32m   3445\u001b[0m \u001b[38;5;28;01mdef\u001b[39;00m \u001b[38;5;21mweights\u001b[39m(\u001b[38;5;28mself\u001b[39m):\n\u001b[1;32m   3446\u001b[0m \u001b[38;5;250m    \u001b[39m\u001b[38;5;124;03m\"\"\"Returns the list of all layer variables/weights.\u001b[39;00m\n\u001b[1;32m   3447\u001b[0m \n\u001b[1;32m   3448\u001b[0m \u001b[38;5;124;03m    Note: This will not track the weights of nested `tf.Modules` that are\u001b[39;00m\n\u001b[0;32m   (...)\u001b[0m\n\u001b[1;32m   3452\u001b[0m \u001b[38;5;124;03m      A list of variables.\u001b[39;00m\n\u001b[1;32m   3453\u001b[0m \u001b[38;5;124;03m    \"\"\"\u001b[39;00m\n\u001b[0;32m-> 3454\u001b[0m     \u001b[38;5;28;01mreturn\u001b[39;00m \u001b[38;5;28mself\u001b[39m\u001b[38;5;241m.\u001b[39m_dedup_weights(\u001b[38;5;28;43mself\u001b[39;49m\u001b[38;5;241;43m.\u001b[39;49m\u001b[43m_undeduplicated_weights\u001b[49m)\n",
      "File \u001b[0;32m~/Developer/Python/ML/env/lib/python3.9/site-packages/keras/src/engine/training.py:3459\u001b[0m, in \u001b[0;36mModel._undeduplicated_weights\u001b[0;34m(self)\u001b[0m\n\u001b[1;32m   3456\u001b[0m \u001b[38;5;129m@property\u001b[39m\n\u001b[1;32m   3457\u001b[0m \u001b[38;5;28;01mdef\u001b[39;00m \u001b[38;5;21m_undeduplicated_weights\u001b[39m(\u001b[38;5;28mself\u001b[39m):\n\u001b[1;32m   3458\u001b[0m \u001b[38;5;250m    \u001b[39m\u001b[38;5;124;03m\"\"\"Returns the undeduplicated list of all layer variables/weights.\"\"\"\u001b[39;00m\n\u001b[0;32m-> 3459\u001b[0m     \u001b[38;5;28;43mself\u001b[39;49m\u001b[38;5;241;43m.\u001b[39;49m\u001b[43m_assert_weights_created\u001b[49m\u001b[43m(\u001b[49m\u001b[43m)\u001b[49m\n\u001b[1;32m   3460\u001b[0m     weights \u001b[38;5;241m=\u001b[39m []\n\u001b[1;32m   3461\u001b[0m     \u001b[38;5;28;01mfor\u001b[39;00m layer \u001b[38;5;129;01min\u001b[39;00m \u001b[38;5;28mself\u001b[39m\u001b[38;5;241m.\u001b[39m_self_tracked_trackables:\n",
      "File \u001b[0;32m~/Developer/Python/ML/env/lib/python3.9/site-packages/keras/src/engine/sequential.py:509\u001b[0m, in \u001b[0;36mSequential._assert_weights_created\u001b[0;34m(self)\u001b[0m\n\u001b[1;32m    506\u001b[0m     \u001b[38;5;28;01mreturn\u001b[39;00m\n\u001b[1;32m    507\u001b[0m \u001b[38;5;66;03m# When the graph has not been initialized, use the Model's\u001b[39;00m\n\u001b[1;32m    508\u001b[0m \u001b[38;5;66;03m# implementation to to check if the weights has been created.\u001b[39;00m\n\u001b[0;32m--> 509\u001b[0m \u001b[38;5;28;43msuper\u001b[39;49m\u001b[43m(\u001b[49m\u001b[43mfunctional\u001b[49m\u001b[38;5;241;43m.\u001b[39;49m\u001b[43mFunctional\u001b[49m\u001b[43m,\u001b[49m\u001b[43m \u001b[49m\u001b[38;5;28;43mself\u001b[39;49m\u001b[43m)\u001b[49m\u001b[38;5;241;43m.\u001b[39;49m\u001b[43m_assert_weights_created\u001b[49m\u001b[43m(\u001b[49m\u001b[43m)\u001b[49m\n",
      "File \u001b[0;32m~/Developer/Python/ML/env/lib/python3.9/site-packages/keras/src/engine/training.py:3838\u001b[0m, in \u001b[0;36mModel._assert_weights_created\u001b[0;34m(self)\u001b[0m\n\u001b[1;32m   3827\u001b[0m     \u001b[38;5;28;01mreturn\u001b[39;00m\n\u001b[1;32m   3829\u001b[0m \u001b[38;5;28;01mif\u001b[39;00m (\n\u001b[1;32m   3830\u001b[0m     \u001b[38;5;124m\"\u001b[39m\u001b[38;5;124mbuild\u001b[39m\u001b[38;5;124m\"\u001b[39m \u001b[38;5;129;01min\u001b[39;00m \u001b[38;5;28mself\u001b[39m\u001b[38;5;241m.\u001b[39m\u001b[38;5;18m__class__\u001b[39m\u001b[38;5;241m.\u001b[39m\u001b[38;5;18m__dict__\u001b[39m\n\u001b[1;32m   3831\u001b[0m     \u001b[38;5;129;01mand\u001b[39;00m \u001b[38;5;28mself\u001b[39m\u001b[38;5;241m.\u001b[39m\u001b[38;5;18m__class__\u001b[39m \u001b[38;5;241m!=\u001b[39m Model\n\u001b[0;32m   (...)\u001b[0m\n\u001b[1;32m   3836\u001b[0m     \u001b[38;5;66;03m# Also make sure to exclude Model class itself which has build()\u001b[39;00m\n\u001b[1;32m   3837\u001b[0m     \u001b[38;5;66;03m# defined.\u001b[39;00m\n\u001b[0;32m-> 3838\u001b[0m     \u001b[38;5;28;01mraise\u001b[39;00m \u001b[38;5;167;01mValueError\u001b[39;00m(\n\u001b[1;32m   3839\u001b[0m         \u001b[38;5;124mf\u001b[39m\u001b[38;5;124m\"\u001b[39m\u001b[38;5;124mWeights for model \u001b[39m\u001b[38;5;124m'\u001b[39m\u001b[38;5;132;01m{\u001b[39;00m\u001b[38;5;28mself\u001b[39m\u001b[38;5;241m.\u001b[39mname\u001b[38;5;132;01m}\u001b[39;00m\u001b[38;5;124m'\u001b[39m\u001b[38;5;124m have not yet been \u001b[39m\u001b[38;5;124m\"\u001b[39m\n\u001b[1;32m   3840\u001b[0m         \u001b[38;5;124m\"\u001b[39m\u001b[38;5;124mcreated. \u001b[39m\u001b[38;5;124m\"\u001b[39m\n\u001b[1;32m   3841\u001b[0m         \u001b[38;5;124m\"\u001b[39m\u001b[38;5;124mWeights are created when the model is first called on \u001b[39m\u001b[38;5;124m\"\u001b[39m\n\u001b[1;32m   3842\u001b[0m         \u001b[38;5;124m\"\u001b[39m\u001b[38;5;124minputs or `build()` is called with an `input_shape`.\u001b[39m\u001b[38;5;124m\"\u001b[39m\n\u001b[1;32m   3843\u001b[0m     )\n",
      "\u001b[0;31mValueError\u001b[0m: Weights for model 'sequential_3' have not yet been created. Weights are created when the model is first called on inputs or `build()` is called with an `input_shape`."
     ]
    }
   ],
   "source": [
    "# models that are not built yet do not have weights\n",
    "model.weights"
   ]
  },
  {
   "cell_type": "code",
   "execution_count": 7,
   "metadata": {},
   "outputs": [
    {
     "data": {
      "text/plain": [
       "[<tf.Variable 'dense_9/kernel:0' shape=(3, 64) dtype=float32, numpy=\n",
       " array([[ 0.00398588,  0.07624665, -0.18128476,  0.1210624 ,  0.07122472,\n",
       "          0.24200201, -0.24523567, -0.00206038,  0.15103695, -0.12092163,\n",
       "         -0.25969365, -0.24109817,  0.17943144,  0.21372962, -0.12086982,\n",
       "         -0.28886825, -0.10692047,  0.09069458,  0.1950103 , -0.01086465,\n",
       "          0.259587  ,  0.06060842,  0.293347  , -0.04206815, -0.04291877,\n",
       "         -0.15123472, -0.15593679,  0.20978647,  0.18263137, -0.01358682,\n",
       "         -0.18883446,  0.27494633, -0.05916984,  0.05235133,  0.29409432,\n",
       "         -0.20706809, -0.08232608,  0.08103576, -0.06833243,  0.2581694 ,\n",
       "         -0.08498685,  0.18638197, -0.26971647,  0.26913953,  0.16730124,\n",
       "         -0.01980299,  0.12020451,  0.16012383, -0.24931438, -0.10975039,\n",
       "          0.05629411, -0.18359819,  0.25285572, -0.27099693, -0.19486916,\n",
       "         -0.21072948, -0.15000126,  0.10400352, -0.28154424,  0.08218345,\n",
       "         -0.11158331, -0.22175509, -0.24813959,  0.20055526],\n",
       "        [ 0.17750114,  0.16451284, -0.05117972, -0.10401349,  0.07087147,\n",
       "         -0.04100037, -0.08633652,  0.06397223,  0.2939304 , -0.13675311,\n",
       "         -0.16144846,  0.19423974,  0.01986   , -0.2540856 , -0.01656595,\n",
       "          0.23934639,  0.24768037,  0.12704217, -0.2425966 , -0.05354638,\n",
       "         -0.16363832,  0.29142565,  0.06758028,  0.19394499,  0.24316943,\n",
       "          0.14884329, -0.08381246,  0.29016042, -0.00523412,  0.2551409 ,\n",
       "          0.10940465,  0.11904269, -0.00808346, -0.22414573,  0.26918572,\n",
       "          0.20104736, -0.08153006,  0.14741862,  0.29691505,  0.10095513,\n",
       "         -0.16512871,  0.22522885, -0.1944179 ,  0.14731795, -0.17824763,\n",
       "          0.0614399 , -0.25056133, -0.18397363,  0.09298345,  0.2772851 ,\n",
       "         -0.00115126,  0.12068588, -0.0810656 , -0.1922976 ,  0.16939822,\n",
       "         -0.19107634,  0.29180336, -0.16825686,  0.2649752 , -0.08956286,\n",
       "          0.14597076, -0.08382553, -0.11155684, -0.16588548],\n",
       "        [ 0.2930643 ,  0.14118287, -0.29032096, -0.05218878, -0.25125355,\n",
       "         -0.00461602,  0.0121108 ,  0.23605233,  0.185922  , -0.26248112,\n",
       "          0.28082168, -0.25925502,  0.06763023, -0.11101839,  0.21231389,\n",
       "          0.00457522, -0.2911722 ,  0.21681684,  0.26173234,  0.15388799,\n",
       "          0.26910365,  0.09780204,  0.15901089, -0.05703199, -0.02734426,\n",
       "          0.26948518, -0.27690572, -0.00931063, -0.28390947, -0.14933316,\n",
       "         -0.10422511,  0.23763293, -0.02662379,  0.0543561 ,  0.01988739,\n",
       "         -0.08527866,  0.04760373,  0.29439342,  0.22860694, -0.2710018 ,\n",
       "          0.21970683,  0.10269728, -0.00142539,  0.19737452,  0.10824525,\n",
       "          0.00925997, -0.2984934 , -0.2389349 , -0.2737351 , -0.18086696,\n",
       "          0.00589252, -0.26825163,  0.05580938,  0.25839233, -0.19657508,\n",
       "          0.1665824 ,  0.26482874, -0.20432983,  0.07421303,  0.28858608,\n",
       "         -0.20664378,  0.01735333,  0.24065745,  0.24682057]],\n",
       "       dtype=float32)>,\n",
       " <tf.Variable 'dense_9/bias:0' shape=(64,) dtype=float32, numpy=\n",
       " array([0., 0., 0., 0., 0., 0., 0., 0., 0., 0., 0., 0., 0., 0., 0., 0., 0.,\n",
       "        0., 0., 0., 0., 0., 0., 0., 0., 0., 0., 0., 0., 0., 0., 0., 0., 0.,\n",
       "        0., 0., 0., 0., 0., 0., 0., 0., 0., 0., 0., 0., 0., 0., 0., 0., 0.,\n",
       "        0., 0., 0., 0., 0., 0., 0., 0., 0., 0., 0., 0., 0.], dtype=float32)>,\n",
       " <tf.Variable 'dense_10/kernel:0' shape=(64, 10) dtype=float32, numpy=\n",
       " array([[-0.25449046,  0.20218566, -0.06670475,  0.22543564,  0.23254976,\n",
       "         -0.03916894,  0.01498693,  0.20391446,  0.17600858, -0.11693451],\n",
       "        [ 0.07219967,  0.0290511 ,  0.13926056, -0.25974256, -0.23196208,\n",
       "          0.2630007 ,  0.21114615,  0.00468639, -0.11711836,  0.04324982],\n",
       "        [ 0.12214011,  0.15974298,  0.06017247,  0.04167357,  0.25231305,\n",
       "          0.27214447,  0.0666776 , -0.04848543, -0.2827243 , -0.05895996],\n",
       "        [-0.2309474 ,  0.12654698,  0.13910979, -0.05785662, -0.16480446,\n",
       "         -0.02764171,  0.20458302,  0.14039746,  0.12590232,  0.09772223],\n",
       "        [-0.04780321,  0.15670481,  0.11205694,  0.18941545, -0.23005556,\n",
       "         -0.10147379,  0.12185124, -0.23046859,  0.01767811,  0.14086485],\n",
       "        [ 0.23059371,  0.05014369,  0.21812925, -0.18699786,  0.18581617,\n",
       "          0.1431466 , -0.27824992, -0.21161065,  0.1539109 ,  0.13524202],\n",
       "        [-0.09133442, -0.16498952,  0.18428215,  0.27987698, -0.02664205,\n",
       "          0.16833767,  0.17171705, -0.08398944, -0.00546941, -0.26044086],\n",
       "        [ 0.12161043, -0.20901409, -0.12936391, -0.11707239, -0.14307289,\n",
       "         -0.10783812,  0.06986246,  0.17261928,  0.05973932,  0.01557171],\n",
       "        [-0.16097414,  0.28121218,  0.21081898,  0.05321085,  0.25473776,\n",
       "          0.06534451,  0.1618779 ,  0.07025146, -0.14774379,  0.2681413 ],\n",
       "        [-0.2074453 , -0.1344928 ,  0.01237115,  0.12789908,  0.18163952,\n",
       "         -0.05804387, -0.12494949,  0.16474354, -0.15490004, -0.10286348],\n",
       "        [-0.12543361, -0.09193395, -0.22086635, -0.26004323,  0.18920901,\n",
       "          0.11204201, -0.05531099, -0.08304504,  0.16091216, -0.0421329 ],\n",
       "        [ 0.23891297,  0.09808993,  0.03363144,  0.08952287, -0.18542168,\n",
       "         -0.11227603, -0.04806077, -0.09348983,  0.20574406, -0.14317316],\n",
       "        [ 0.13825649,  0.27766213,  0.11683151,  0.20656729, -0.25951675,\n",
       "         -0.17639595, -0.00098473,  0.0939261 , -0.19124079,  0.23814729],\n",
       "        [-0.24555883, -0.14008394, -0.12875468, -0.26538923, -0.01832089,\n",
       "          0.00375196, -0.02961063, -0.20358601, -0.01885381,  0.15185794],\n",
       "        [ 0.11461502, -0.2564874 ,  0.22654644,  0.18520951,  0.01590443,\n",
       "         -0.00719541,  0.2666268 ,  0.16970924, -0.25280383, -0.02383164],\n",
       "        [ 0.17274556,  0.20411915, -0.24318707, -0.23762117, -0.08592862,\n",
       "          0.26825878, -0.15866306, -0.25383908, -0.23915038,  0.23901406],\n",
       "        [ 0.25731024,  0.07612586,  0.280387  ,  0.02305439,  0.11042014,\n",
       "         -0.24049085,  0.241541  ,  0.18507138,  0.15452462, -0.09639996],\n",
       "        [-0.08547458,  0.23590037,  0.07525674,  0.11557171,  0.07329196,\n",
       "          0.11341712, -0.07383731,  0.09330565, -0.161903  , -0.27258316],\n",
       "        [-0.12965658,  0.2821832 ,  0.05975819, -0.00121433, -0.27141038,\n",
       "          0.15760195, -0.05063078,  0.23619488,  0.28455493, -0.12633565],\n",
       "        [-0.2805057 ,  0.0006873 , -0.19431975,  0.09365901, -0.22342429,\n",
       "          0.03442878,  0.05953729,  0.03759634,  0.06103581,  0.12353882],\n",
       "        [ 0.03869635,  0.17466405,  0.20403394,  0.12116936,  0.08934119,\n",
       "         -0.01852298, -0.01849583,  0.22434363, -0.15215176, -0.1774401 ],\n",
       "        [ 0.22947219,  0.27237102, -0.24741688,  0.2171562 , -0.24085249,\n",
       "          0.15075392,  0.02357244,  0.0603157 , -0.27887866, -0.03851958],\n",
       "        [-0.27530578,  0.14789939, -0.09234421,  0.05815947, -0.08063544,\n",
       "         -0.08381666, -0.15716659, -0.01858199, -0.1373609 , -0.2607201 ],\n",
       "        [ 0.18562678,  0.23841146, -0.15508552, -0.27677062, -0.12295158,\n",
       "         -0.1776985 , -0.01165146, -0.09462087, -0.26465964, -0.10098621],\n",
       "        [ 0.03646994, -0.10823458, -0.25019187, -0.11699194, -0.07307512,\n",
       "         -0.18600404,  0.02269062, -0.20909792, -0.10060108, -0.15204069],\n",
       "        [ 0.24631724, -0.13214193,  0.04882744,  0.08256391, -0.27756956,\n",
       "          0.20674184,  0.06831074, -0.17612053, -0.03294671, -0.09515265],\n",
       "        [-0.19714177, -0.27473667, -0.14679931, -0.24046464, -0.10411984,\n",
       "         -0.16340777,  0.07153219, -0.1240537 , -0.15425599, -0.10737044],\n",
       "        [-0.05062386,  0.2174078 ,  0.07478443, -0.02127162, -0.19154805,\n",
       "          0.2427772 ,  0.1747263 , -0.11519927,  0.07190043,  0.2457408 ],\n",
       "        [-0.08837256, -0.07548165, -0.25059757, -0.20342782,  0.01227   ,\n",
       "          0.10366341, -0.25404844,  0.18779528,  0.2676758 ,  0.1900957 ],\n",
       "        [-0.00585625, -0.21550108, -0.11011757,  0.14860868, -0.13788752,\n",
       "          0.23325464, -0.08193925,  0.13384378,  0.24668714,  0.11099055],\n",
       "        [ 0.19798544,  0.24773315,  0.02192035,  0.10156727, -0.23175658,\n",
       "          0.2806374 ,  0.14078474,  0.02504155,  0.04947117, -0.07116899],\n",
       "        [-0.04363014, -0.13205612, -0.07314551,  0.0879676 , -0.1012837 ,\n",
       "         -0.06141171,  0.15362293,  0.13271701, -0.10289553,  0.27240375],\n",
       "        [ 0.02613246,  0.19900376, -0.17722374,  0.1813148 , -0.1150493 ,\n",
       "          0.27747598,  0.15494466,  0.17619407,  0.09548095,  0.10499629],\n",
       "        [ 0.24630317,  0.02742285,  0.04013228,  0.19886982, -0.10240434,\n",
       "          0.10669366,  0.2735    , -0.22958386, -0.20520903, -0.19417822],\n",
       "        [ 0.1082741 ,  0.25032672, -0.0989769 ,  0.20651814, -0.20414609,\n",
       "          0.12665778, -0.09372303,  0.24608585, -0.26318812, -0.06666911],\n",
       "        [-0.02348751,  0.08008873, -0.19908673, -0.1847952 , -0.21910402,\n",
       "         -0.12092285,  0.20527217, -0.2690264 ,  0.0290851 , -0.2559667 ],\n",
       "        [ 0.25631472,  0.1892435 ,  0.13541704, -0.02666798,  0.23000506,\n",
       "          0.01446819,  0.07217628, -0.23923375, -0.06224145, -0.05597678],\n",
       "        [-0.09928647,  0.21226591, -0.26577532, -0.17702584,  0.01584008,\n",
       "          0.06286237,  0.14632872,  0.22598031,  0.19895524, -0.23259977],\n",
       "        [-0.17813873, -0.27919006, -0.03866813,  0.20902482, -0.2611727 ,\n",
       "          0.06682694, -0.23922084, -0.10914764,  0.08083531, -0.27077922],\n",
       "        [ 0.07720616, -0.28246143, -0.17402649, -0.24593705, -0.17548408,\n",
       "          0.06268448, -0.13813002,  0.11639372, -0.16239426, -0.11651224],\n",
       "        [ 0.19644523, -0.19688074,  0.12843955,  0.21045318, -0.21434996,\n",
       "          0.0023829 ,  0.13982275,  0.28296825, -0.26437417, -0.10692433],\n",
       "        [ 0.02252844,  0.05219299,  0.10651571, -0.22332129,  0.17645922,\n",
       "         -0.04295538, -0.26463103, -0.2800337 ,  0.2725735 ,  0.04348436],\n",
       "        [-0.03908692,  0.14183995, -0.13229753,  0.10735184, -0.14006397,\n",
       "         -0.16546005, -0.01399934,  0.12043798,  0.15506738, -0.19578135],\n",
       "        [ 0.08345535, -0.04042834,  0.15280634,  0.02460015, -0.07303756,\n",
       "          0.20185587,  0.06620094, -0.0651143 ,  0.15153018, -0.15401185],\n",
       "        [ 0.20053649,  0.043919  , -0.26640806,  0.21214566, -0.1193627 ,\n",
       "          0.03975543,  0.08853766,  0.2453483 ,  0.19702575, -0.22386265],\n",
       "        [ 0.03133473, -0.18516636, -0.2307861 , -0.10589534, -0.28112334,\n",
       "          0.05275509, -0.07251516,  0.27973494,  0.16625103,  0.01476654],\n",
       "        [-0.24912709, -0.07653637,  0.28462473, -0.1327329 ,  0.18906018,\n",
       "         -0.28316137,  0.2799919 ,  0.01994479, -0.19259918, -0.10359342],\n",
       "        [ 0.246752  , -0.04685365,  0.24137089, -0.11112572,  0.13717943,\n",
       "          0.15144047, -0.03255954, -0.25471306,  0.10915557,  0.21935782],\n",
       "        [-0.20478371,  0.02858841, -0.15239134, -0.05835636, -0.27941233,\n",
       "         -0.051746  , -0.09622455, -0.00682223,  0.13046134,  0.24902025],\n",
       "        [-0.08307701,  0.02437368,  0.1404517 ,  0.08036667,  0.19499043,\n",
       "          0.12218186, -0.14331532,  0.00201645, -0.26073843, -0.26454172],\n",
       "        [ 0.14600739,  0.18845335, -0.19850954, -0.07400383,  0.15777162,\n",
       "          0.17743278,  0.1941362 , -0.2238621 ,  0.24350384,  0.12063181],\n",
       "        [-0.1077356 ,  0.14499477,  0.15033308,  0.221576  ,  0.06661806,\n",
       "         -0.16465259,  0.13912705, -0.17198297,  0.21179163, -0.20394528],\n",
       "        [-0.18549657,  0.13147405,  0.17129558,  0.00959226, -0.08416724,\n",
       "         -0.25287598, -0.20664427,  0.26765534,  0.11639267, -0.11752908],\n",
       "        [-0.08101922, -0.03204018,  0.24946657, -0.07533541,  0.03659961,\n",
       "         -0.02839249, -0.1250275 , -0.23318523, -0.12719594,  0.02303767],\n",
       "        [ 0.11899188, -0.14499748,  0.06508723, -0.27996787,  0.2556136 ,\n",
       "         -0.1275671 , -0.23949946, -0.21531168,  0.09276253, -0.27587762],\n",
       "        [-0.07651757, -0.13357058,  0.13575518, -0.14919241,  0.10957962,\n",
       "         -0.083536  , -0.16340478,  0.15359738,  0.01154622,  0.06025147],\n",
       "        [ 0.17913419, -0.22353847, -0.2599116 ,  0.22045311, -0.01249886,\n",
       "          0.03413361,  0.24789014, -0.07525931,  0.07004279,  0.22797826],\n",
       "        [ 0.17317897,  0.19133094, -0.22641146, -0.00715414, -0.12543449,\n",
       "          0.00958246, -0.04816845, -0.24971175, -0.15479183,  0.00131047],\n",
       "        [ 0.03602168,  0.24472412,  0.10025361, -0.22747101,  0.26062503,\n",
       "         -0.1410675 ,  0.0993928 ,  0.25444612, -0.08273499, -0.08851838],\n",
       "        [ 0.23173389,  0.19438678, -0.2694551 ,  0.1938892 ,  0.14779857,\n",
       "          0.23005351, -0.08578028,  0.23993424, -0.0577087 , -0.20071994],\n",
       "        [ 0.00260851, -0.07123791, -0.1239797 ,  0.14566082, -0.18288127,\n",
       "         -0.08434218,  0.11477074,  0.16306376,  0.21050018, -0.0463201 ],\n",
       "        [-0.11413667,  0.11182129,  0.0266681 , -0.15813869, -0.09430729,\n",
       "          0.02697933, -0.28404495,  0.02447096, -0.28185824,  0.01371026],\n",
       "        [-0.2005249 ,  0.24482372,  0.02871403, -0.02515146, -0.14200269,\n",
       "         -0.26710275, -0.15351592, -0.2637544 , -0.02359375,  0.15659198],\n",
       "        [-0.11979501, -0.07565422, -0.12857327, -0.19562384, -0.02978531,\n",
       "         -0.2822143 ,  0.11447081, -0.06072067,  0.16272554, -0.27414435]],\n",
       "       dtype=float32)>,\n",
       " <tf.Variable 'dense_10/bias:0' shape=(10,) dtype=float32, numpy=array([0., 0., 0., 0., 0., 0., 0., 0., 0., 0.], dtype=float32)>]"
      ]
     },
     "execution_count": 7,
     "metadata": {},
     "output_type": "execute_result"
    }
   ],
   "source": [
    "# If you call model.build() then the weights are initialized\n",
    "model.build(input_shape=(None, 3))\n",
    "model.weights"
   ]
  },
  {
   "cell_type": "code",
   "execution_count": 8,
   "metadata": {},
   "outputs": [
    {
     "name": "stdout",
     "output_type": "stream",
     "text": [
      "Model: \"sequential_3\"\n",
      "_________________________________________________________________\n",
      " Layer (type)                Output Shape              Param #   \n",
      "=================================================================\n",
      " dense_9 (Dense)             (None, 64)                256       \n",
      "                                                                 \n",
      " dense_10 (Dense)            (None, 10)                650       \n",
      "                                                                 \n",
      "=================================================================\n",
      "Total params: 906 (3.54 KB)\n",
      "Trainable params: 906 (3.54 KB)\n",
      "Non-trainable params: 0 (0.00 Byte)\n",
      "_________________________________________________________________\n"
     ]
    }
   ],
   "source": [
    "# show the summary of the built model\n",
    "model.summary()"
   ]
  },
  {
   "cell_type": "code",
   "execution_count": 9,
   "metadata": {},
   "outputs": [
    {
     "name": "stdout",
     "output_type": "stream",
     "text": [
      "Model: \"my_example_model\"\n",
      "_________________________________________________________________\n",
      " Layer (type)                Output Shape              Param #   \n",
      "=================================================================\n",
      " my_first_layer (Dense)      (None, 64)                256       \n",
      "                                                                 \n",
      " my_last_layer (Dense)       (None, 10)                650       \n",
      "                                                                 \n",
      "=================================================================\n",
      "Total params: 906 (3.54 KB)\n",
      "Trainable params: 906 (3.54 KB)\n",
      "Non-trainable params: 0 (0.00 Byte)\n",
      "_________________________________________________________________\n"
     ]
    }
   ],
   "source": [
    "# Name model\n",
    "# This is helpful to identify the parts of your model where specific transformations are happening\n",
    "# especially helps when we have a model taking in multiple inputs\n",
    "model = keras.Sequential(name='my_example_model')\n",
    "model.add(layers.Dense(64, activation='relu', name='my_first_layer'))\n",
    "model.add(layers.Dense(10, activation='softmax', name='my_last_layer'))\n",
    "model.build((None, 3))\n",
    "model.summary()"
   ]
  },
  {
   "cell_type": "markdown",
   "metadata": {},
   "source": [
    "### The Functional API\n",
    "\n",
    "This is helpful for models especially with multiple inputs, for example an image and some metadata about that image."
   ]
  },
  {
   "cell_type": "code",
   "execution_count": 10,
   "metadata": {},
   "outputs": [],
   "source": [
    "# A simple example\n",
    "# Input is a symbolic layer, it does not contain any actual data just information about the shape and specifications\n",
    "# of the actual data\n",
    "inputs = keras.Input(shape=(3,), name=\"my_input\")\n",
    "# each layer is called in parenthises when being fed into the next layer. Specify the layer you want to be fed.\n",
    "features = layers.Dense(64, activation=\"relu\")(inputs)\n",
    "outputs = layers.Dense(10, activation=\"softmax\")(features)\n",
    "model = keras.Model(inputs=inputs, outputs=outputs)"
   ]
  },
  {
   "cell_type": "code",
   "execution_count": 11,
   "metadata": {},
   "outputs": [
    {
     "name": "stdout",
     "output_type": "stream",
     "text": [
      "Model: \"model\"\n",
      "_________________________________________________________________\n",
      " Layer (type)                Output Shape              Param #   \n",
      "=================================================================\n",
      " my_input (InputLayer)       [(None, 3)]               0         \n",
      "                                                                 \n",
      " dense_11 (Dense)            (None, 64)                256       \n",
      "                                                                 \n",
      " dense_12 (Dense)            (None, 10)                650       \n",
      "                                                                 \n",
      "=================================================================\n",
      "Total params: 906 (3.54 KB)\n",
      "Trainable params: 906 (3.54 KB)\n",
      "Non-trainable params: 0 (0.00 Byte)\n",
      "_________________________________________________________________\n"
     ]
    }
   ],
   "source": [
    "# model summary (will be similar to the Sequential) If this is all your model needs for one input\n",
    "# then the Sequential model would be recommended.\n",
    "model.summary()"
   ]
  },
  {
   "cell_type": "markdown",
   "metadata": {},
   "source": [
    "#### Multi-Input Multi-Output Models\n",
    "\n",
    "Most models will not look like a list but a graph instead, this is really where the Functional API excels is taking multiple inputs and creating multiple outputs.\n",
    "\n",
    "The next example will be a simulation of a model that takes in the following:\n",
    "\n",
    "* The title of the ticket (text)\n",
    "* The text body of the ticker (text)\n",
    "* Any tags added by the user (categorical input)\n",
    "\n",
    "The models outputs:\n",
    "\n",
    "* The priority score of the ticket, between 0 and 1 (sigmoid output)\n",
    "* The department that should handle the ticket (softmax)"
   ]
  },
  {
   "cell_type": "code",
   "execution_count": 12,
   "metadata": {},
   "outputs": [],
   "source": [
    "vocabulary_size = 10_000\n",
    "num_tags = 100\n",
    "num_departments = 4\n",
    "\n",
    "# Here we are building a symbolic layer for each of the inputs the model will recieve\n",
    "# naming them will help track them through our graph structure after creation\n",
    "title = keras.Input(shape=(vocabulary_size,), name='title')\n",
    "text_body = keras.Input(shape=(vocabulary_size,), name='text_body')\n",
    "tags = keras.Input(shape=(num_tags,), name='tags')\n",
    "\n",
    "# concatenate all the inputs\n",
    "features = layers.Concatenate()([title, text_body, tags])\n",
    "features = layers.Dense(64, activation='relu')(features)\n",
    "\n",
    "# Define the model outputs\n",
    "priority = layers.Dense(1, activation='sigmoid', name='priority')(features)\n",
    "department = layers.Dense(\n",
    "    num_departments, activation='softmax', name='department')(features)\n",
    "\n",
    "# Feed list of inputs and output layers to the keras.Model\n",
    "model = keras.Model(inputs=[title, text_body, tags],\n",
    "                    outputs=[priority, department])\n"
   ]
  },
  {
   "cell_type": "markdown",
   "metadata": {},
   "source": [
    "#### Training a Multi-Input, Multi-Output Model"
   ]
  },
  {
   "cell_type": "code",
   "execution_count": 13,
   "metadata": {},
   "outputs": [
    {
     "name": "stdout",
     "output_type": "stream",
     "text": [
      "40/40 [==============================] - 1s 9ms/step - loss: 28.1873 - priority_loss: 0.3200 - department_loss: 27.8672 - priority_mean_absolute_error: 0.4849 - department_accuracy: 0.2594\n",
      "40/40 [==============================] - 0s 4ms/step - loss: 47.8319 - priority_loss: 0.3309 - department_loss: 47.5010 - priority_mean_absolute_error: 0.4964 - department_accuracy: 0.1094\n",
      "40/40 [==============================] - 0s 8ms/step\n"
     ]
    }
   ],
   "source": [
    "import numpy as np\n",
    "\n",
    "num_samples = 1280\n",
    "# generate dummy data already numerically encoded\n",
    "# in a real world example you would need to perform some NLP to process this text data\n",
    "title_data = np.random.randint(0, 2, size=(num_samples, vocabulary_size))\n",
    "text_body_data = np.random.randint(0, 2, size=(num_samples, vocabulary_size))\n",
    "tags_data = np.random.randint(0, 2, size=(num_samples, num_tags))\n",
    "\n",
    "priority_data = np.random.random(size=(num_samples, 1))\n",
    "department_data = np.random.randint(0, 2, size=(num_samples, num_departments))\n",
    "\n",
    "# each output gets a different loss and evaluation metric\n",
    "model.compile(optimizer='rmsprop',\n",
    "              loss=['mean_squared_error','categorical_crossentropy'],\n",
    "              metrics=[['mean_absolute_error'], ['accuracy']])\n",
    "\n",
    "model.fit([title_data, text_body_data, tags_data],\n",
    "          [priority_data, department_data], epochs=1)\n",
    "\n",
    "model.evaluate([title_data, text_body_data, tags_data],\n",
    "               [priority_data, department_data])\n",
    "\n",
    "priority_preds, department_preds = model.predict([title_data, text_body_data, tags_data])"
   ]
  },
  {
   "cell_type": "code",
   "execution_count": 14,
   "metadata": {},
   "outputs": [
    {
     "name": "stdout",
     "output_type": "stream",
     "text": [
      "40/40 [==============================] - 1s 9ms/step - loss: 39.9875 - priority_loss: 0.3309 - department_loss: 39.6566 - priority_mean_absolute_error: 0.4964 - department_accuracy: 0.2602\n",
      "40/40 [==============================] - 0s 3ms/step - loss: 29.5896 - priority_loss: 0.3309 - department_loss: 29.2587 - priority_mean_absolute_error: 0.4964 - department_accuracy: 0.2547\n",
      "40/40 [==============================] - 0s 4ms/step\n"
     ]
    }
   ],
   "source": [
    "# Training a model by providing dicts of input and target arrays\n",
    "model.compile(optimizer='rmsprop',\n",
    "              loss={'priority': 'mean_squared_error', 'department': 'categorical_crossentropy'},\n",
    "              metrics={'priority': ['mean_absolute_error'], 'department': ['accuracy']})\n",
    "\n",
    "model.fit({'title': title_data, 'text_body': text_body_data, 'tags': tags_data},\n",
    "          {'priority': priority_data, 'department': department_data},\n",
    "          epochs=1)\n",
    "\n",
    "model.evaluate({'title': title_data, 'text_body': text_body_data, 'tags': tags_data},\n",
    "          {'priority': priority_data, 'department': department_data})\n",
    "\n",
    "priority_preds, department_preds = model.predict(\n",
    "    {'title': title_data, 'text_body': text_body_data, 'tags': tags_data}\n",
    ")"
   ]
  },
  {
   "cell_type": "markdown",
   "metadata": {},
   "source": [
    "#### Access to layer connectivity\n",
    "\n",
    "Using the functional model we are able to display the graph structure and all connectivity of the models layers and multiple inputs"
   ]
  },
  {
   "cell_type": "code",
   "execution_count": 15,
   "metadata": {},
   "outputs": [
    {
     "data": {
      "image/png": "[encoded data removed]",
      "text/plain": [
       "<IPython.core.display.Image object>"
      ]
     },
     "execution_count": 15,
     "metadata": {},
     "output_type": "execute_result"
    }
   ],
   "source": [
    "keras.utils.plot_model(model, 'ticket_classifier.png')"
   ]
  },
  {
   "cell_type": "code",
   "execution_count": 16,
   "metadata": {},
   "outputs": [
    {
     "data": {
      "image/png": "[encoded data removed]",
      "text/plain": [
       "<IPython.core.display.Image object>"
      ]
     },
     "execution_count": 16,
     "metadata": {},
     "output_type": "execute_result"
    }
   ],
   "source": [
    "# Adding show_shapes=True to the plot_model function we are able to see shapes of each layer\n",
    "# The None in the shapes represents the batch size\n",
    "keras.utils.plot_model(\n",
    "    model, \"ticket_classifier_with_shape_info.png\", show_shapes=True)"
   ]
  },
  {
   "cell_type": "code",
   "execution_count": 17,
   "metadata": {},
   "outputs": [
    {
     "data": {
      "text/plain": [
       "[<keras.src.engine.input_layer.InputLayer at 0x137ce1070>,\n",
       " <keras.src.engine.input_layer.InputLayer at 0x137ce10d0>,\n",
       " <keras.src.engine.input_layer.InputLayer at 0x137ce01f0>,\n",
       " <keras.src.layers.merging.concatenate.Concatenate at 0x137ce09d0>,\n",
       " <keras.src.layers.core.dense.Dense at 0x137ce0dc0>,\n",
       " <keras.src.layers.core.dense.Dense at 0x137cdb730>,\n",
       " <keras.src.layers.core.dense.Dense at 0x137cdb370>]"
      ]
     },
     "execution_count": 17,
     "metadata": {},
     "output_type": "execute_result"
    }
   ],
   "source": [
    "model.layers"
   ]
  },
  {
   "cell_type": "code",
   "execution_count": 18,
   "metadata": {},
   "outputs": [
    {
     "data": {
      "text/plain": [
       "[<KerasTensor: shape=(None, 10000) dtype=float32 (created by layer 'title')>,\n",
       " <KerasTensor: shape=(None, 10000) dtype=float32 (created by layer 'text_body')>,\n",
       " <KerasTensor: shape=(None, 100) dtype=float32 (created by layer 'tags')>]"
      ]
     },
     "execution_count": 18,
     "metadata": {},
     "output_type": "execute_result"
    }
   ],
   "source": [
    "model.layers[3].input"
   ]
  },
  {
   "cell_type": "code",
   "execution_count": 19,
   "metadata": {},
   "outputs": [
    {
     "data": {
      "text/plain": [
       "<KerasTensor: shape=(None, 20100) dtype=float32 (created by layer 'concatenate_1')>"
      ]
     },
     "execution_count": 19,
     "metadata": {},
     "output_type": "execute_result"
    }
   ],
   "source": [
    "model.layers[3].output"
   ]
  },
  {
   "cell_type": "markdown",
   "metadata": {},
   "source": [
    "This enables you to do feature extraction, creating models that reuse intermediate features from another model. Here if we wanted to estimate how long a given issue ticket will take to resolve we can start from the intermediate features of the previous model since we have access to the layers like this."
   ]
  },
  {
   "cell_type": "code",
   "execution_count": 20,
   "metadata": {},
   "outputs": [],
   "source": [
    "features = model.layers[4].output\n",
    "difficulty = layers.Dense(3, activation=\"softmax\", name=\"difficulty\")(features)\n",
    "\n",
    "new_model = keras.Model(\n",
    "    inputs=[title, text_body, tags],\n",
    "    outputs=[priority, department, difficulty]\n",
    ")"
   ]
  },
  {
   "cell_type": "code",
   "execution_count": 21,
   "metadata": {},
   "outputs": [
    {
     "data": {
      "image/png": "[encoded data removed]",
      "text/plain": [
       "<IPython.core.display.Image object>"
      ]
     },
     "execution_count": 21,
     "metadata": {},
     "output_type": "execute_result"
    }
   ],
   "source": [
    "keras.utils.plot_model(\n",
    "    new_model, \"updated_ticket_classifier.png\", show_shapes=True\n",
    ")"
   ]
  },
  {
   "cell_type": "markdown",
   "metadata": {},
   "source": [
    "### Subclassing the Model class\n",
    "\n",
    "* In the __init__() method, define the layers the model will use.\n",
    "* In the call() method, define the forward pass of the model, reusing the layers previously created.\n",
    "* Instantiate your subclass, and call it on data to create its weights"
   ]
  },
  {
   "cell_type": "code",
   "execution_count": 22,
   "metadata": {},
   "outputs": [],
   "source": [
    "class CustomerTicketModel(keras.Model):\n",
    "\n",
    "    def __init__(self, num_departments):\n",
    "        super().__init__()\n",
    "        self.concat_layer = layers.Concatenate()\n",
    "        self.mixing_layer = layers.Dense(64, activation=\"relu\")\n",
    "        self.priority_scorer = layers.Dense(1, activation=\"sigmoid\")\n",
    "        self.department_classifier = layers.Dense(\n",
    "            num_departments, activation=\"softmax\")\n",
    "\n",
    "    def call(self, inputs):\n",
    "        title = inputs[\"title\"]\n",
    "        text_body = inputs[\"text_body\"]\n",
    "        tags = inputs[\"tags\"]\n",
    "\n",
    "        features = self.concat_layer([title, text_body, tags])\n",
    "        features = self.mixing_layer(features)\n",
    "        priority = self.priority_scorer(features)\n",
    "        department = self.department_classifier(features)\n",
    "        return priority, department"
   ]
  },
  {
   "cell_type": "code",
   "execution_count": 23,
   "metadata": {},
   "outputs": [],
   "source": [
    "model = CustomerTicketModel(num_departments=4)\n",
    "\n",
    "priority, department = model(\n",
    "    {\"title\": title_data, \"text_body\": text_body_data, \"tags\": tags_data})"
   ]
  },
  {
   "cell_type": "code",
   "execution_count": 24,
   "metadata": {},
   "outputs": [
    {
     "name": "stdout",
     "output_type": "stream",
     "text": [
      "40/40 [==============================] - 1s 10ms/step - loss: 45.9945 - output_1_loss: 0.3262 - output_2_loss: 45.6683 - output_1_mean_absolute_error: 0.4918 - output_2_accuracy: 0.2578\n",
      "40/40 [==============================] - 0s 6ms/step\n"
     ]
    }
   ],
   "source": [
    "model.compile(optimizer=\"rmsprop\",\n",
    "              loss=[\"mean_squared_error\", \"categorical_crossentropy\"],\n",
    "              metrics=[[\"mean_absolute_error\"], [\"accuracy\"]])\n",
    "model.fit({\"title\": title_data,\n",
    "           \"text_body\": text_body_data,\n",
    "           \"tags\": tags_data},\n",
    "          [priority_data, department_data])\n",
    "priority_preds, department_preds = model.predict({\"title\": title_data,\n",
    "                                                  \"text_body\": text_body_data,\n",
    "                                                  \"tags\": tags_data})"
   ]
  },
  {
   "cell_type": "markdown",
   "metadata": {},
   "source": [
    "The Model subclassing is the most flexible way to build a model, you can express models in ways an acyclical graph of layers cannot handle. For instance a call() method that uses layers inside a for loop or even calls them recursively.\n",
    "\n",
    "This will make your model more of a black box, since the call function is no longer bytecode but python code, we cannot view the graph of the model, access the nodes or layers for feature extraction because there is no graph. Debugging will also be more of a hassle. For most purposes the functional API will provide the best structure for your projects unless you are an ML Research Scientist."
   ]
  },
  {
   "cell_type": "markdown",
   "metadata": {},
   "source": [
    "### Mixing and matching different components\n",
    "\n",
    "example of using the Functional API with subclassing"
   ]
  },
  {
   "cell_type": "code",
   "execution_count": 28,
   "metadata": {},
   "outputs": [],
   "source": [
    "class Classifier(keras.Model):\n",
    "\n",
    "    def __init__(self, num_classes=2):\n",
    "        super().__init__()\n",
    "        if num_classes == 2:\n",
    "            num_units = 1\n",
    "            activation = \"sigmoid\"\n",
    "        else:\n",
    "            num_units = num_classes\n",
    "            activation = \"softmax\"\n",
    "        self.dense = layers.Dense(num_units, activation=activation)\n",
    "\n",
    "    def call(self, inputs):\n",
    "        return self.dense(inputs)\n",
    "\n",
    "inputs = keras.Input(shape=(3,))\n",
    "features = layers.Dense(64, activation=\"relu\")(inputs)\n",
    "outputs = Classifier(num_classes=10)(features)\n",
    "model = keras.Model(inputs=inputs, outputs=outputs)"
   ]
  },
  {
   "cell_type": "markdown",
   "metadata": {},
   "source": [
    "Creating a subclassed model that includes a Functional model"
   ]
  },
  {
   "cell_type": "code",
   "execution_count": 32,
   "metadata": {},
   "outputs": [],
   "source": [
    "class MyModel(keras.Model):\n",
    "\n",
    "    def __init__(self, num_classes=2):\n",
    "        super().__init__()\n",
    "        self.dense = layers.Dense(64, activation=\"relu\")\n",
    "        self.classifier = binary_classifier\n",
    "\n",
    "    def call(self, inputs):\n",
    "        features = self.dense(inputs)\n",
    "        return self.classifier(features)\n",
    "\n",
    "inputs = keras.Input(shape=(64, ))\n",
    "outputs = layers.Dense(1, activation=\"sigmoid\")(inputs)\n",
    "binary_classifier = keras.Model(inputs=inputs, outputs=outputs)\n",
    "model = MyModel()"
   ]
  },
  {
   "cell_type": "markdown",
   "metadata": {},
   "source": [
    "### Using built-in training and evaluation loops\n",
    "\n",
    "keras provides the ability to call fit on your data or customize your training algorithm from scratch."
   ]
  },
  {
   "cell_type": "code",
   "execution_count": 34,
   "metadata": {},
   "outputs": [
    {
     "name": "stdout",
     "output_type": "stream",
     "text": [
      "Epoch 1/3\n",
      "1563/1563 [==============================] - 6s 3ms/step - loss: 0.2953 - accuracy: 0.9107 - val_loss: 0.1484 - val_accuracy: 0.9563\n",
      "Epoch 2/3\n",
      "1563/1563 [==============================] - 7s 4ms/step - loss: 0.1590 - accuracy: 0.9538 - val_loss: 0.1148 - val_accuracy: 0.9692\n",
      "Epoch 3/3\n",
      "1563/1563 [==============================] - 7s 4ms/step - loss: 0.1283 - accuracy: 0.9639 - val_loss: 0.1106 - val_accuracy: 0.9700\n",
      "313/313 [==============================] - 1s 2ms/step - loss: 0.1024 - accuracy: 0.9707\n",
      "313/313 [==============================] - 1s 2ms/step\n"
     ]
    }
   ],
   "source": [
    "from tensorflow.keras.datasets import mnist\n",
    "\n",
    "def get_mnist_model():\n",
    "    inputs = keras.Input(shape=(28 * 28,))\n",
    "    features = layers.Dense(512, activation=\"relu\")(inputs)\n",
    "    features = layers.Dropout(0.5)(features)\n",
    "    outputs = layers.Dense(10, activation=\"softmax\")(features)\n",
    "    model = keras.Model(inputs, outputs)\n",
    "    return model\n",
    "\n",
    "(images, labels), (test_images, test_labels) = mnist.load_data()\n",
    "images = images.reshape((60000, 28 * 28)).astype(\"float32\") / 255\n",
    "test_images = test_images.reshape((10000, 28 * 28)).astype(\"float32\") / 255\n",
    "train_images, val_images = images[10000:], images[:10000]\n",
    "train_labels, val_labels = labels[10000:], labels[:10000]\n",
    "\n",
    "model = get_mnist_model()\n",
    "model.compile(optimizer=\"rmsprop\",\n",
    "              loss=\"sparse_categorical_crossentropy\",\n",
    "              metrics=[\"accuracy\"])\n",
    "model.fit(train_images, train_labels,\n",
    "          epochs=3,\n",
    "          validation_data=(val_images, val_labels))\n",
    "test_metrics = model.evaluate(test_images, test_labels)\n",
    "predictions = model.predict(test_images)"
   ]
  },
  {
   "cell_type": "markdown",
   "metadata": {},
   "source": [
    "We can customize by\n",
    "* providing custom metrics\n",
    "* pass callbacks to the fit() method to schedule actions to be taken at specific intervals during training\n",
    "\n",
    "We can create a new metric by subclassing the keras.metrics.Metric class"
   ]
  },
  {
   "cell_type": "code",
   "execution_count": 35,
   "metadata": {},
   "outputs": [],
   "source": [
    "import tensorflow as tf\n",
    "\n",
    "class RootMeanSquaredError(keras.metrics.Metric):\n",
    "\n",
    "    def __init__(self, name=\"rmse\", **kwargs):\n",
    "        super().__init__(name=name, **kwargs)\n",
    "        self.mse_sum = self.add_weight(name=\"mse_sum\", initializer=\"zeros\")\n",
    "        self.total_samples = self.add_weight(\n",
    "            name=\"total_samples\", initializer=\"zeros\", dtype=\"int32\")\n",
    "\n",
    "    def update_state(self, y_true, y_pred, sample_weight=None):\n",
    "        y_true = tf.one_hot(y_true, depth=tf.shape(y_pred)[1])\n",
    "        mse = tf.reduce_sum(tf.square(y_true - y_pred))\n",
    "        self.mse_sum.assign_add(mse)\n",
    "        num_samples = tf.shape(y_pred)[0]\n",
    "        self.total_samples.assign_add(num_samples)\n",
    "\n",
    "    def result(self):\n",
    "        return tf.sqrt(self.mse_sum / tf.cast(self.total_samples, tf.float32))\n",
    "\n",
    "    def reset_state(self):\n",
    "        self.mse_sum.assign(0.)\n",
    "        self.total_samples.assign(0)"
   ]
  },
  {
   "cell_type": "code",
   "execution_count": 36,
   "metadata": {},
   "outputs": [
    {
     "name": "stdout",
     "output_type": "stream",
     "text": [
      "Epoch 1/3\n",
      "1563/1563 [==============================] - 7s 4ms/step - loss: 0.2935 - accuracy: 0.9127 - rmse: 7.1768 - val_loss: 0.1518 - val_accuracy: 0.9553 - val_rmse: 7.3544\n",
      "Epoch 2/3\n",
      "1563/1563 [==============================] - 7s 4ms/step - loss: 0.1579 - accuracy: 0.9550 - rmse: 7.3506 - val_loss: 0.1219 - val_accuracy: 0.9658 - val_rmse: 7.4058\n",
      "Epoch 3/3\n",
      "1563/1563 [==============================] - 7s 4ms/step - loss: 0.1292 - accuracy: 0.9634 - rmse: 7.3839 - val_loss: 0.1061 - val_accuracy: 0.9715 - val_rmse: 7.4198\n",
      "313/313 [==============================] - 1s 4ms/step - loss: 0.0930 - accuracy: 0.9733 - rmse: 7.4324\n"
     ]
    }
   ],
   "source": [
    "model = get_mnist_model()\n",
    "model.compile(optimizer=\"rmsprop\",\n",
    "              loss=\"sparse_categorical_crossentropy\",\n",
    "              metrics=[\"accuracy\", RootMeanSquaredError()])\n",
    "model.fit(train_images, train_labels, \n",
    "          epochs=3,\n",
    "          validation_data=(val_images, val_labels))\n",
    "test_metrics = model.evaluate(test_images, test_labels)"
   ]
  },
  {
   "cell_type": "markdown",
   "metadata": {},
   "source": [
    "### Callbacks\n",
    "callbacks can make change your model by allowing it the ability to make introspective decisions during training that increase its impact.\n",
    "\n",
    "Examples:\n",
    "\n",
    "* Model checkpoint - save current state of the model\n",
    "* Early stopping - stop training when loss is no longer improving\n",
    "* Dynamically adjusting the value of certain parameters during training - learning rate optimization\n",
    "* Logging training and validation metrics during training, or visualizing the representations learned by the model as theyre updated\n",
    "\n",
    "keras.callbacks.ModelCheckpoint\n",
    "\n",
    "keras.callbacks.EarlyStopping\n",
    "\n",
    "keras.callbacks.LearningRateScheduler\n",
    "\n",
    "keras.callbacks.ReduceLROnPlateau\n",
    "\n",
    "keras.callbacks.CSVLogger\n"
   ]
  },
  {
   "cell_type": "code",
   "execution_count": 38,
   "metadata": {},
   "outputs": [
    {
     "name": "stdout",
     "output_type": "stream",
     "text": [
      "Epoch 1/10\n",
      "1563/1563 [==============================] - 7s 4ms/step - loss: 0.2963 - accuracy: 0.9119 - val_loss: 0.1516 - val_accuracy: 0.9537\n",
      "Epoch 2/10\n",
      "1563/1563 [==============================] - 6s 4ms/step - loss: 0.1608 - accuracy: 0.9541 - val_loss: 0.1205 - val_accuracy: 0.9665\n",
      "Epoch 3/10\n",
      "1563/1563 [==============================] - 7s 4ms/step - loss: 0.1323 - accuracy: 0.9619 - val_loss: 0.1047 - val_accuracy: 0.9725\n",
      "Epoch 4/10\n",
      "1563/1563 [==============================] - 6s 4ms/step - loss: 0.1138 - accuracy: 0.9693 - val_loss: 0.1031 - val_accuracy: 0.9735\n",
      "Epoch 5/10\n",
      "1563/1563 [==============================] - 6s 4ms/step - loss: 0.1047 - accuracy: 0.9709 - val_loss: 0.0957 - val_accuracy: 0.9771\n",
      "Epoch 6/10\n",
      "1563/1563 [==============================] - 7s 5ms/step - loss: 0.0947 - accuracy: 0.9740 - val_loss: 0.0941 - val_accuracy: 0.9770\n",
      "Epoch 7/10\n",
      "1563/1563 [==============================] - 7s 4ms/step - loss: 0.0892 - accuracy: 0.9759 - val_loss: 0.0960 - val_accuracy: 0.9767\n"
     ]
    },
    {
     "data": {
      "text/plain": [
       "<keras.src.callbacks.History at 0x138ec8dc0>"
      ]
     },
     "execution_count": 38,
     "metadata": {},
     "output_type": "execute_result"
    }
   ],
   "source": [
    "# Early Stopping\n",
    "callbacks_list = [\n",
    "    keras.callbacks.EarlyStopping(\n",
    "        monitor=\"val_accuracy\",\n",
    "        patience=2, # interrupts when accuracy stopped improving for two epochs straight\n",
    "    ),\n",
    "    keras.callbacks.ModelCheckpoint(\n",
    "        filepath=\"checkpoint_path.keras\", # saves weights after each epoch to the filef checkpoint_path.keras saving only the best epochs\n",
    "        monitor=\"val_loss\",\n",
    "        save_best_only=True,\n",
    "    )\n",
    "]\n",
    "\n",
    "model = get_mnist_model()\n",
    "model.compile(optimizer=\"rmsprop\",\n",
    "              loss=\"sparse_categorical_crossentropy\",\n",
    "              metrics=[\"accuracy\"])\n",
    "model.fit(train_images, train_labels, \n",
    "          epochs=10,\n",
    "          callbacks=callbacks_list,\n",
    "          validation_data=(val_images, val_labels))"
   ]
  },
  {
   "cell_type": "markdown",
   "metadata": {},
   "source": [
    "### Writing your own callbacks\n",
    "\n",
    "Implement keras.callbacks.Callback class. Then you use these methods to specify when you want the callback action to occur\n",
    "\n",
    "* on_epoch_begin(epoch, logs)\n",
    "* on_epoch_end(epoch, logs)\n",
    "* on_batch_begin(batch, logs)\n",
    "* on_batch_end(batch, logs)\n",
    "* on_train_begin(logs)\n",
    "* on_train_end(logs)\n",
    "\n",
    "The logs argument is a dictionary containing information about the previous batch, epoch, or training run"
   ]
  },
  {
   "cell_type": "code",
   "execution_count": 39,
   "metadata": {},
   "outputs": [],
   "source": [
    "# creating a custom callback by subclassing the Callback class\n",
    "import matplotlib.pyplot as plt\n",
    "\n",
    "class LossHistory(keras.callbacks.Callback):\n",
    "    def on_train_begin(self, logs):\n",
    "        self.per_batch_losses = []\n",
    "\n",
    "    def on_batch_end(self, batch, logs):\n",
    "        self.per_batch_losses.append(logs.get(\"loss\"))\n",
    "\n",
    "    def on_epoch_end(self, epoch, logs):\n",
    "        plt.clf()\n",
    "        plt.plot(range(len(self.per_batch_losses)), self.per_batch_losses,\n",
    "            label=\"Training loss for each batch\")\n",
    "        plt.xlabel(f\"Batch (epoch {epoch})\")\n",
    "        plt.ylabel(\"Loss\")\n",
    "        plt.legend()\n",
    "        plt.savefig(f\"plot_at_epoch_{epoch}\")\n",
    "        self.per_batch_losses = []"
   ]
  },
  {
   "cell_type": "code",
   "execution_count": 40,
   "metadata": {},
   "outputs": [
    {
     "name": "stdout",
     "output_type": "stream",
     "text": [
      "Epoch 1/10\n",
      "1563/1563 [==============================] - 6s 4ms/step - loss: 0.2932 - accuracy: 0.9129 - val_loss: 0.1471 - val_accuracy: 0.9587\n",
      "Epoch 2/10\n",
      "1563/1563 [==============================] - 7s 5ms/step - loss: 0.1578 - accuracy: 0.9539 - val_loss: 0.1268 - val_accuracy: 0.9653\n",
      "Epoch 3/10\n",
      "1563/1563 [==============================] - 7s 5ms/step - loss: 0.1315 - accuracy: 0.9628 - val_loss: 0.1094 - val_accuracy: 0.9700\n",
      "Epoch 4/10\n",
      "1563/1563 [==============================] - 8s 5ms/step - loss: 0.1143 - accuracy: 0.9675 - val_loss: 0.0932 - val_accuracy: 0.9746\n",
      "Epoch 5/10\n",
      "1563/1563 [==============================] - 7s 5ms/step - loss: 0.1017 - accuracy: 0.9722 - val_loss: 0.0981 - val_accuracy: 0.9750\n",
      "Epoch 6/10\n",
      "1563/1563 [==============================] - 8s 5ms/step - loss: 0.0926 - accuracy: 0.9744 - val_loss: 0.1018 - val_accuracy: 0.9759\n",
      "Epoch 7/10\n",
      "1563/1563 [==============================] - 8s 5ms/step - loss: 0.0849 - accuracy: 0.9762 - val_loss: 0.0921 - val_accuracy: 0.9782\n",
      "Epoch 8/10\n",
      "1563/1563 [==============================] - 6s 4ms/step - loss: 0.0811 - accuracy: 0.9776 - val_loss: 0.0891 - val_accuracy: 0.9789\n",
      "Epoch 9/10\n",
      "1563/1563 [==============================] - 8s 5ms/step - loss: 0.0782 - accuracy: 0.9786 - val_loss: 0.0840 - val_accuracy: 0.9802\n",
      "Epoch 10/10\n",
      "1563/1563 [==============================] - 7s 4ms/step - loss: 0.0716 - accuracy: 0.9806 - val_loss: 0.0892 - val_accuracy: 0.9800\n"
     ]
    },
    {
     "data": {
      "text/plain": [
       "<keras.src.callbacks.History at 0x13960ce50>"
      ]
     },
     "execution_count": 40,
     "metadata": {},
     "output_type": "execute_result"
    },
    {
     "data": {
      "image/png": "[encoded data removed]",
      "text/plain": [
       "<Figure size 640x480 with 1 Axes>"
      ]
     },
     "metadata": {},
     "output_type": "display_data"
    }
   ],
   "source": [
    "model = get_mnist_model()\n",
    "model.compile(optimizer=\"rmsprop\",\n",
    "              loss=\"sparse_categorical_crossentropy\",\n",
    "              metrics=[\"accuracy\"])\n",
    "model.fit(train_images, train_labels,\n",
    "          epochs=10,\n",
    "          callbacks=[LossHistory()],\n",
    "          validation_data=(val_images, val_labels))"
   ]
  },
  {
   "cell_type": "markdown",
   "metadata": {},
   "source": [
    "We can use TensorBoard to visualize what is happening during our training, we can\n",
    "\n",
    "* Visually monitor metrics\n",
    "* Visualize model architecture\n",
    "* Visualize histograms of activations and gradients\n",
    "* Explore embeddings in 3D"
   ]
  },
  {
   "cell_type": "code",
   "execution_count": 42,
   "metadata": {},
   "outputs": [
    {
     "name": "stdout",
     "output_type": "stream",
     "text": [
      "Epoch 1/10\n",
      "1563/1563 [==============================] - 7s 4ms/step - loss: 0.2960 - accuracy: 0.9124 - val_loss: 0.1560 - val_accuracy: 0.9532\n",
      "Epoch 2/10\n",
      "1563/1563 [==============================] - 8s 5ms/step - loss: 0.1597 - accuracy: 0.9532 - val_loss: 0.1292 - val_accuracy: 0.9637\n",
      "Epoch 3/10\n",
      "1563/1563 [==============================] - 8s 5ms/step - loss: 0.1286 - accuracy: 0.9636 - val_loss: 0.1025 - val_accuracy: 0.9730\n",
      "Epoch 4/10\n",
      "1563/1563 [==============================] - 6s 4ms/step - loss: 0.1135 - accuracy: 0.9688 - val_loss: 0.1035 - val_accuracy: 0.9721\n",
      "Epoch 5/10\n",
      "1563/1563 [==============================] - 6s 4ms/step - loss: 0.1037 - accuracy: 0.9712 - val_loss: 0.0866 - val_accuracy: 0.9771\n",
      "Epoch 6/10\n",
      "1563/1563 [==============================] - 9s 6ms/step - loss: 0.0946 - accuracy: 0.9742 - val_loss: 0.0871 - val_accuracy: 0.9770\n",
      "Epoch 7/10\n",
      "1563/1563 [==============================] - 8s 5ms/step - loss: 0.0849 - accuracy: 0.9763 - val_loss: 0.0972 - val_accuracy: 0.9771\n",
      "Epoch 8/10\n",
      "1563/1563 [==============================] - 6s 4ms/step - loss: 0.0813 - accuracy: 0.9783 - val_loss: 0.0808 - val_accuracy: 0.9803\n",
      "Epoch 9/10\n",
      "1563/1563 [==============================] - 7s 4ms/step - loss: 0.0741 - accuracy: 0.9802 - val_loss: 0.0902 - val_accuracy: 0.9793\n",
      "Epoch 10/10\n",
      "1563/1563 [==============================] - 8s 5ms/step - loss: 0.0733 - accuracy: 0.9800 - val_loss: 0.0806 - val_accuracy: 0.9823\n"
     ]
    },
    {
     "data": {
      "text/plain": [
       "<keras.src.callbacks.History at 0x13a1d6e20>"
      ]
     },
     "execution_count": 42,
     "metadata": {},
     "output_type": "execute_result"
    }
   ],
   "source": [
    "model = get_mnist_model()\n",
    "model.compile(optimizer=\"rmsprop\",\n",
    "              loss=\"sparse_categorical_crossentropy\",\n",
    "              metrics=[\"accuracy\"])\n",
    "tensorboard = keras.callbacks.TensorBoard(\n",
    "    log_dir=\"./log_dir\",\n",
    ")\n",
    "model.fit(train_images, train_labels,\n",
    "          epochs=10,\n",
    "          validation_data=(val_images, val_labels),\n",
    "          callbacks=[tensorboard])"
   ]
  },
  {
   "cell_type": "code",
   "execution_count": 43,
   "metadata": {},
   "outputs": [
    {
     "data": {
      "text/html": [
       "\n",
       "      <iframe id=\"tensorboard-frame-5c610a7f103f20e5\" width=\"100%\" height=\"800\" frameborder=\"0\">\n",
       "      </iframe>\n",
       "      <script>\n",
       "        (function() {\n",
       "          const frame = document.getElementById(\"tensorboard-frame-5c610a7f103f20e5\");\n",
       "          const url = new URL(\"/\", window.location);\n",
       "          const port = 6006;\n",
       "          if (port) {\n",
       "            url.port = port;\n",
       "          }\n",
       "          frame.src = url;\n",
       "        })();\n",
       "      </script>\n",
       "    "
      ],
      "text/plain": [
       "<IPython.core.display.HTML object>"
      ]
     },
     "metadata": {},
     "output_type": "display_data"
    }
   ],
   "source": [
    "%load_ext tensorboard\n",
    "%tensorboard --logdir ./log_dir"
   ]
  },
  {
   "cell_type": "markdown",
   "metadata": {},
   "source": [
    "### Write your own training and evaluation loops\n",
    "\n",
    "When supervised learning is happening the classic fit is fine, however for instances like reinforcement learning, generative learning, and self-supervised learning where explicit targets are not present we want to design custom fit methods.\n",
    "\n",
    "The contents of a typical training loop look like this\n",
    "1. Run the forward pass inside a gradient tape to obtain a loss value for the current batch of data\n",
    "2. Retrieve the gradients of the loss with regard to the model's weights\n",
    "3. Update the model's weights so as to lower the loss value on the current batch of data.\n",
    "\n",
    "B/c some keras layers like Dropout behave different during training and inference layers have a training=True or training=False argument. We need to have this set equal to True when calling our forward pass during training\n",
    "\n",
    "Kind of weights in training:\n",
    "* Trainable weights: Meant to be updated via backpropogation to minimize the models loss\n",
    "* Non-Trainable weights: Meant to be updated during the forward pass by the layers that own them. LIke a customer layer to keep a counter of how many batches it has processed so far."
   ]
  },
  {
   "cell_type": "code",
   "execution_count": 44,
   "metadata": {},
   "outputs": [],
   "source": [
    "def train_step(inputs, targets):\n",
    "    with tf.GradientTape() as tape:\n",
    "        predictions = model(inputs, training=True)\n",
    "        loss = loss_fn(targets, predictions)\n",
    "        gradients = tape.gradients(loss, model.trainable_weights)\n",
    "        optimizer.apply_gradients(zip(model.trainable_weights, gradients))"
   ]
  },
  {
   "cell_type": "markdown",
   "metadata": {},
   "source": [
    "#### Low-Level usage of metrics"
   ]
  },
  {
   "cell_type": "code",
   "execution_count": 45,
   "metadata": {},
   "outputs": [
    {
     "name": "stdout",
     "output_type": "stream",
     "text": [
      "result: 0.00\n"
     ]
    }
   ],
   "source": [
    "metric = keras.metrics.SparseCategoricalCrossentropy()\n",
    "targets = [0, 1, 2]\n",
    "predictions = [[1, 0, 0], [0, 1, 0], [0, 0, 1]]\n",
    "metric.update_state(targets, predictions)\n",
    "current_result = metric.result()\n",
    "print(f\"result: {current_result:.2f}\")"
   ]
  },
  {
   "cell_type": "code",
   "execution_count": 46,
   "metadata": {},
   "outputs": [
    {
     "name": "stdout",
     "output_type": "stream",
     "text": [
      "Mean of values: 2.00\n"
     ]
    }
   ],
   "source": [
    "# tracking the average of a scalar value, such as the models loss\n",
    "values = [0, 1, 2, 3, 4]\n",
    "mean_tracker = keras.metrics.Mean()\n",
    "for value in values:\n",
    "    mean_tracker.update_state(value)\n",
    "print(f\"Mean of values: {mean_tracker.result():.2f}\")"
   ]
  },
  {
   "cell_type": "markdown",
   "metadata": {},
   "source": [
    "#### A complete training and evaluation loop"
   ]
  },
  {
   "cell_type": "code",
   "execution_count": 51,
   "metadata": {},
   "outputs": [],
   "source": [
    "model = get_mnist_model()\n",
    "\n",
    "# prepare the loss function\n",
    "loss_fn = keras.losses.SparseCategoricalCrossentropy()\n",
    "# prepare the optimizer\n",
    "optimizer = keras.optimizers.RMSprop()\n",
    "# list of metrics to monitor\n",
    "metrics = [keras.metrics.SparseCategoricalAccuracy()]\n",
    "# mean metric tracker for loss average\n",
    "loss_tracking_metric = keras.metrics.Mean()\n",
    "\n",
    "def train_step(inputs, targets):\n",
    "    with tf.GradientTape() as tape:\n",
    "        predictions = model(inputs, training=True)\n",
    "        loss = loss_fn(targets, predictions)\n",
    "    gradients = tape.gradient(loss, model.trainable_weights)\n",
    "    optimizer.apply_gradients(zip(gradients, model.trainable_weights))\n",
    "\n",
    "    logs = {}\n",
    "    for metric in metrics:\n",
    "        metric.update_state(targets, predictions)\n",
    "        logs[metric.name] = metric.result()\n",
    "    \n",
    "    loss_tracking_metric.update_state(loss)\n",
    "    logs[\"loss\"] = loss_tracking_metric.result()\n",
    "    return logs"
   ]
  },
  {
   "cell_type": "code",
   "execution_count": 52,
   "metadata": {},
   "outputs": [],
   "source": [
    "def reset_metrics():\n",
    "    # resetting the metrics\n",
    "    for metric in metrics:\n",
    "        metric.reset_state()\n",
    "    loss_tracking_metric.reset_state()"
   ]
  },
  {
   "cell_type": "code",
   "execution_count": 53,
   "metadata": {},
   "outputs": [
    {
     "name": "stdout",
     "output_type": "stream",
     "text": [
      "Results at the end of epoch 0\n",
      "...sparse_categorical_accuracy: 0.9148\n",
      "...loss: 0.2868\n",
      "Results at the end of epoch 1\n",
      "...sparse_categorical_accuracy: 0.9548\n",
      "...loss: 0.1591\n",
      "Results at the end of epoch 2\n",
      "...sparse_categorical_accuracy: 0.9644\n",
      "...loss: 0.1293\n"
     ]
    }
   ],
   "source": [
    "# training loop\n",
    "training_dataset = tf.data.Dataset.from_tensor_slices( (train_images, train_labels))\n",
    "training_dataset = training_dataset.batch(32) \n",
    "epochs = 3\n",
    "\n",
    "for epoch in range(epochs):\n",
    "    reset_metrics()\n",
    "    for inputs_batch, targets_batch in training_dataset:\n",
    "        logs = train_step(inputs_batch, targets_batch)\n",
    "    print(f\"Results at the end of epoch {epoch}\")\n",
    "    for key, value in logs.items():\n",
    "        print(f\"...{key}: {value:.4f}\")"
   ]
  },
  {
   "cell_type": "code",
   "execution_count": 55,
   "metadata": {},
   "outputs": [],
   "source": [
    "# evaluation loop\n",
    "def test_step(inputs, targets):\n",
    "    predictions = model(inputs, training=False)\n",
    "    loss = loss_fn(targets, predictions)\n",
    "\n",
    "    logs = {}\n",
    "    for metric in metrics:\n",
    "        metric.update_state(targets, predictions)\n",
    "        logs[\"val_\" + metric.name] = metric.result()\n",
    "        \n",
    "    loss_tracking_metric.update_state(loss)\n",
    "    logs[\"val_loss\"] = loss_tracking_metric.result()\n",
    "    return logs"
   ]
  },
  {
   "cell_type": "code",
   "execution_count": 57,
   "metadata": {},
   "outputs": [
    {
     "name": "stdout",
     "output_type": "stream",
     "text": [
      "Evaluation results:\n",
      "...val_sparse_categorical_accuracy: 0.9691\n",
      "...val_loss: 0.1133\n"
     ]
    }
   ],
   "source": [
    "val_dataset = tf.data.Dataset.from_tensor_slices((val_images, val_labels)) \n",
    "val_dataset = val_dataset.batch(32)\n",
    "reset_metrics()\n",
    "for inputs_batch, targets_batch in val_dataset:\n",
    "    logs = test_step(inputs_batch, targets_batch) \n",
    "print(\"Evaluation results:\")\n",
    "for key, value in logs.items():\n",
    "    print(f\"...{key}: {value:.4f}\")"
   ]
  },
  {
   "cell_type": "code",
   "execution_count": 59,
   "metadata": {},
   "outputs": [
    {
     "name": "stdout",
     "output_type": "stream",
     "text": [
      "Evaluation results:\n",
      "...val_sparse_categorical_accuracy: 0.9691\n",
      "...val_loss: 0.1133\n"
     ]
    }
   ],
   "source": [
    "# To make our custom training loops run faster we need to use @tf.function. This will compile our Tensorflow Code into a computation graph\n",
    "# this will make it run much faster than going line by line\n",
    "@tf.function\n",
    "def test_step(inputs, targets):\n",
    "    predictions = model(inputs, training=False)\n",
    "    loss = loss_fn(targets, predictions)\n",
    "\n",
    "    logs = {}\n",
    "    for metric in metrics:\n",
    "        metric.update_state(targets, predictions)\n",
    "        logs[\"val_\" + metric.name] = metric.result()\n",
    "        \n",
    "    loss_tracking_metric.update_state(loss)\n",
    "    logs[\"val_loss\"] = loss_tracking_metric.result()\n",
    "    return logs\n",
    "\n",
    "val_dataset = tf.data.Dataset.from_tensor_slices((val_images, val_labels)) \n",
    "val_dataset = val_dataset.batch(32)\n",
    "\n",
    "reset_metrics()\n",
    "\n",
    "for inputs_batch, targets_batch in val_dataset:\n",
    "    logs = test_step(inputs_batch, targets_batch) \n",
    "print(\"Evaluation results:\")\n",
    "\n",
    "for key, value in logs.items():\n",
    "    print(f\"...{key}: {value:.4f}\")"
   ]
  },
  {
   "cell_type": "code",
   "execution_count": 63,
   "metadata": {},
   "outputs": [],
   "source": [
    "# implementing a custom training step to use with fit()\n",
    "\n",
    "loss_fn = keras.losses.SparseCategoricalCrossentropy()\n",
    "loss_tracker = keras.metrics.Mean(name=\"loss\")\n",
    "\n",
    "class CustomModel(keras.Model):\n",
    "    def train_step(self, data):\n",
    "        inputs, targets = data\n",
    "        with tf.GradientTape() as tape:\n",
    "            predictions = self(inputs, training=True)\n",
    "            loss = self.compiled_loss(targets, predictions)\n",
    "        gradients = tape.gradient(loss, self.trainable_weights)\n",
    "        self.optimizer.apply_gradients(zip(gradients, self.trainable_weights))\n",
    "\n",
    "        loss_tracker.update_state(loss)\n",
    "        return {\"loss\": loss_tracker.result()}\n",
    "\n",
    "    @property\n",
    "    def metrics(self):\n",
    "        return [loss_tracker]"
   ]
  },
  {
   "cell_type": "code",
   "execution_count": 64,
   "metadata": {},
   "outputs": [
    {
     "name": "stdout",
     "output_type": "stream",
     "text": [
      "Epoch 1/3\n",
      "1563/1563 [==============================] - 6s 3ms/step - loss: 0.2995\n",
      "Epoch 2/3\n",
      "1563/1563 [==============================] - 5s 3ms/step - loss: 0.1600\n",
      "Epoch 3/3\n",
      "1563/1563 [==============================] - 7s 5ms/step - loss: 0.1317\n"
     ]
    },
    {
     "data": {
      "text/plain": [
       "<keras.src.callbacks.History at 0x13b04f5e0>"
      ]
     },
     "execution_count": 64,
     "metadata": {},
     "output_type": "execute_result"
    }
   ],
   "source": [
    "inputs = keras.Input(shape=(28 * 28,))\n",
    "features = layers.Dense(512, activation=\"relu\")(inputs)\n",
    "features = layers.Dropout(0.5)(features)\n",
    "outputs = layers.Dense(10, activation=\"softmax\")(features)\n",
    "model = CustomModel(inputs, outputs)\n",
    "\n",
    "model.compile(optimizer=keras.optimizers.RMSprop(),\n",
    "              loss=keras.losses.SparseCategoricalCrossentropy(),\n",
    "              metrics=[keras.metrics.SparseCategoricalAccuracy()])\n",
    "model.fit(train_images, train_labels, epochs=3)"
   ]
  },
  {
   "cell_type": "code",
   "execution_count": 65,
   "metadata": {},
   "outputs": [],
   "source": [
    "class CustomModel(keras.Model):\n",
    "    def train_step(self, data):\n",
    "        inputs, targets = data\n",
    "        with tf.GradientTape() as tape:\n",
    "            predictions = self(inputs, training=True)\n",
    "            loss = self.compiled_loss(targets, predictions)\n",
    "        gradients = tape.gradient(loss, self.trainable_weights)\n",
    "        self.optimizer.apply_gradients(zip(gradients, self.trainable_weights))\n",
    "        self.compiled_metrics.update_state(targets, predictions)\n",
    "        return {m.name: m.result() for m in self.metrics}"
   ]
  },
  {
   "cell_type": "code",
   "execution_count": 66,
   "metadata": {},
   "outputs": [
    {
     "name": "stdout",
     "output_type": "stream",
     "text": [
      "Epoch 1/3\n",
      "1563/1563 [==============================] - 6s 4ms/step - loss: 0.2972 - sparse_categorical_accuracy: 0.9125\n",
      "Epoch 2/3\n",
      "1563/1563 [==============================] - 10s 6ms/step - loss: 0.1603 - sparse_categorical_accuracy: 0.9538\n",
      "Epoch 3/3\n",
      "1563/1563 [==============================] - 8s 5ms/step - loss: 0.1296 - sparse_categorical_accuracy: 0.9632\n"
     ]
    },
    {
     "data": {
      "text/plain": [
       "<keras.src.callbacks.History at 0x13b063310>"
      ]
     },
     "execution_count": 66,
     "metadata": {},
     "output_type": "execute_result"
    }
   ],
   "source": [
    "inputs = keras.Input(shape=(28 * 28,))\n",
    "features = layers.Dense(512, activation=\"relu\")(inputs)\n",
    "features = layers.Dropout(0.5)(features)\n",
    "outputs = layers.Dense(10, activation=\"softmax\")(features)\n",
    "model = CustomModel(inputs, outputs)\n",
    "\n",
    "model.compile(optimizer=keras.optimizers.RMSprop(),\n",
    "              loss=keras.losses.SparseCategoricalCrossentropy(),\n",
    "              metrics=[keras.metrics.SparseCategoricalAccuracy()])\n",
    "model.fit(train_images, train_labels, epochs=3)"
   ]
  },
  {
   "cell_type": "code",
   "execution_count": null,
   "metadata": {},
   "outputs": [],
   "source": []
  }
 ],
 "metadata": {
  "kernelspec": {
   "display_name": "Python 3 (ipykernel)",
   "language": "python",
   "name": "python3"
  },
  "language_info": {
   "codemirror_mode": {
    "name": "ipython",
    "version": 3
   },
   "file_extension": ".py",
   "mimetype": "text/x-python",
   "name": "python",
   "nbconvert_exporter": "python",
   "pygments_lexer": "ipython3",
   "version": "3.9.18"
  }
 },
 "nbformat": 4,
 "nbformat_minor": 4
}
