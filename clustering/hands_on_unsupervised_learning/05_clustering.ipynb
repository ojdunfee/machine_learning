{
 "cells": [
  {
   "cell_type": "code",
   "execution_count": 7,
   "metadata": {},
   "outputs": [],
   "source": [
    "import numpy as np\n",
    "import pandas as pd\n",
    "import os, time\n",
    "import pickle, gzip\n",
    "\n",
    "import matplotlib.pyplot as plt\n",
    "import seaborn as sns\n",
    "color = sns.color_palette()\n",
    "import matplotlib as mpl\n",
    "\n",
    "%matplotlib inline\n",
    "\n",
    "from sklearn import preprocessing as pp\n",
    "from sklearn.model_selection import train_test_split\n",
    "from sklearn.metrics import precision_recall_curve, average_precision_score\n",
    "from sklearn.metrics import roc_curve, auc, roc_auc_score\n",
    "\n",
    "file = 'datasets/mnist_data/mnist.pkl.gz'\n",
    "\n",
    "with gzip.open(file, 'rb') as f:\n",
    "    train_set, validation_set, test_set = pickle.load(f, encoding='latin1')\n",
    "\n",
    "X_train, y_train = train_set[0], train_set[1]\n",
    "X_validation, y_validation = validation_set[0], validation_set[1]\n",
    "X_test, y_test = test_set[0], test_set[1]\n",
    "\n",
    "train_index = range(0, len(X_train))\n",
    "validation_index = range(len(X_train), len(X_train) + len(X_validation))\n",
    "test_index = range(len(X_train) + len(X_validation), len(X_train) + len(X_validation) + len(X_test))\n",
    "\n",
    "X_train = pd.DataFrame(data=X_train,index=train_index)\n",
    "y_train = pd.Series(data=y_train,index=train_index)\n",
    "X_validation = pd.DataFrame(data=X_validation,index=validation_index)\n",
    "y_validation = pd.Series(data=y_validation,index=validation_index)\n",
    "X_test = pd.DataFrame(data=X_test,index=test_index)\n",
    "y_test = pd.Series(data=y_test,index=test_index)"
   ]
  },
  {
   "cell_type": "code",
   "execution_count": 9,
   "metadata": {},
   "outputs": [],
   "source": [
    "from sklearn.decomposition import PCA\n",
    "\n",
    "n_components = 784\n",
    "whiten = False\n",
    "random_state = 2018\n",
    "\n",
    "pca = PCA(n_components=n_components, whiten=whiten, random_state=random_state)\n",
    "\n",
    "X_train_PCA = pca.fit_transform(X_train)\n",
    "X_train_PCA = pd.DataFrame(data=X_train_PCA, index=train_index)"
   ]
  },
  {
   "cell_type": "code",
   "execution_count": 12,
   "metadata": {},
   "outputs": [],
   "source": [
    "from sklearn.cluster import KMeans\n",
    "\n",
    "n_clusters = 10\n",
    "n_init = 10\n",
    "max_iter = 300\n",
    "tol = 0.0001\n",
    "random_state = 2018\n",
    "n_jobs = 2\n",
    "\n",
    "kMeans_inertia = pd.DataFrame(data=[], index=range(2, 21), columns=['inertia'])\n",
    "\n",
    "for n_clusters in range(2, 21):\n",
    "    kmeans = KMeans(n_clusters=n_clusters, n_init=n_init,\n",
    "                    max_iter=max_iter, tol=tol, random_state=random_state,\n",
    "                    )\n",
    "    cutoff = 99\n",
    "    kmeans.fit(X_train_PCA.iloc[:,0:cutoff])\n",
    "    kMeans_inertia.loc[n_clusters] = kmeans.inertia_"
   ]
  },
  {
   "cell_type": "code",
   "execution_count": 14,
   "metadata": {},
   "outputs": [],
   "source": [
    "def analyzeCluster(clusterDF, labelsDF):\n",
    "    countByCluster = pd.DataFrame(data=clusterDF['cluster'].value_counts())\n",
    "    countByCluster.reset_index(inplace=True, drop=False)\n",
    "    countByCluster.columns = ['cluster', 'clusterCount']\n",
    "    preds = pd.concat([labelsDF, clusterDF], axis=1)\n",
    "    preds.columns = ['trueLabel', 'cluster']\n",
    "    countByLabel = pd.DataFrame(data=preds.groupby('trueLabel').count())\n",
    "    countMostFreq = pd.DataFrame(data=preds.groupby('cluster').agg(\n",
    "        lambda x: x.value_counts().iloc[0]))\n",
    "    countMostFreq.reset_index(inplace=True, drop=False)\n",
    "    countMostFreq.columns = ['cluster', 'countMostFrequent']\n",
    "    accuracyDF = countMostFreq.merge(countByCluster, left_on='cluster', \n",
    "                                     right_on='cluster')\n",
    "    overallAccuracy = accuracyDF.countMostFrequent.sum() / accuracyDF.clusterCount.sum()\n",
    "    accuracyByLabel = accuracyDF.countMostFrequent / accuracyDF.clusterCount\n",
    "\n",
    "    return countByCluster, countByLabel, countMostFreq, accuracyDF, overallAccuracy, accuracyByLabel\n"
   ]
  },
  {
   "cell_type": "code",
   "execution_count": 19,
   "metadata": {},
   "outputs": [],
   "source": [
    "n_clusters = 5\n",
    "n_init = 10\n",
    "max_iter = 300\n",
    "tol = 0.0001\n",
    "random_state = 2018\n",
    "n_jobs = 2\n",
    "kMeans_inertia = pd.DataFrame(data=[], index=range(2,21),\n",
    "                              columns=['inertia'])\n",
    "overallAccuracy_kMeansDF = pd.DataFrame(data=[], index=range(2,21),\n",
    "                                        columns=['overallAccuracy'])\n",
    "for n_clusters in range(2,21):\n",
    "    kmeans = KMeans(n_clusters=n_clusters, n_init=n_init,\n",
    "                   max_iter=max_iter, tol=tol, random_state=random_state)\n",
    "    cutoff = 99\n",
    "    kmeans.fit(X_train_PCA.loc[:,0:cutoff])\n",
    "    kMeans_inertia.loc[n_clusters] = kmeans.inertia_\n",
    "    X_train_kmeansClustered = kmeans.predict(X_train_PCA.loc[:,0:cutoff])\n",
    "    X_train_kmeansClustered = \\\n",
    "           pd.DataFrame(data=X_train_kmeansClustered, index=X_train.index, \\\n",
    "                        columns=['cluster'])\n",
    "    countByCluster_kMeans, countByLabel_kMeans, countMostFreq_kMeans, \\\n",
    "           accuracyDF_kMeans, overallAccuracy_kMeans, accuracyByLabel_kMeans \\\n",
    "           = analyzeCluster(X_train_kmeansClustered, y_train)\n",
    "    overallAccuracy_kMeansDF.loc[n_clusters] = overallAccuracy_kMeans"
   ]
  },
  {
   "cell_type": "code",
   "execution_count": 21,
   "metadata": {},
   "outputs": [
    {
     "data": {
      "text/plain": [
       "<AxesSubplot: >"
      ]
     },
     "execution_count": 21,
     "metadata": {},
     "output_type": "execute_result"
    },
    {
     "data": {
      "image/png": "[encoded data removed]",
      "text/plain": [
       "<Figure size 432x288 with 1 Axes>"
      ]
     },
     "metadata": {
      "needs_background": "light"
     },
     "output_type": "display_data"
    }
   ],
   "source": [
    "overallAccuracy_kMeansDF.plot()"
   ]
  },
  {
   "cell_type": "code",
   "execution_count": null,
   "metadata": {},
   "outputs": [],
   "source": []
  }
 ],
 "metadata": {
  "kernelspec": {
   "display_name": "Python 3",
   "language": "python",
   "name": "python3"
  },
  "language_info": {
   "codemirror_mode": {
    "name": "ipython",
    "version": 3
   },
   "file_extension": ".py",
   "mimetype": "text/x-python",
   "name": "python",
   "nbconvert_exporter": "python",
   "pygments_lexer": "ipython3",
   "version": "3.9.14"
  },
  "orig_nbformat": 4
 },
 "nbformat": 4,
 "nbformat_minor": 2
}
